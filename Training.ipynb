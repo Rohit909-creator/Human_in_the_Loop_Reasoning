{
 "cells": [
  {
   "cell_type": "code",
   "execution_count": null,
   "metadata": {
    "colab": {
     "base_uri": "https://localhost:8080/"
    },
    "id": "JtOXxh4skToQ",
    "outputId": "6f86c3ad-8f90-4b2b-8fc1-e5845e53098e"
   },
   "outputs": [],
   "source": [
    "!pip install unsloth transformers datasets trl --q"
   ]
  },
  {
   "cell_type": "code",
   "execution_count": null,
   "metadata": {
    "colab": {
     "base_uri": "https://localhost:8080/",
     "height": 209,
     "referenced_widgets": [
      "912b6c2a919d4f2985f4509d5ad694b8",
      "852989590206406a9a384a0620b6bd17",
      "0d5c6bbb0c1b47fb8a20d02912daac2c",
      "1e70e97dfb684aa68f73c4f0c1093466",
      "2590b446b65b4bdaba27fc9c8eede569",
      "44f695a3bf5b4ae2b145e6310f4fca76",
      "26f2e76baede4462b4cc97a798325872",
      "3e200166c25541c1a75ab757b45c9b71",
      "51fdd14bc1584b5892c1171f55a7db33",
      "bc87870b7c8349819fb3970a86bffdaf",
      "8f20ae8f24314f1c8670b075c0a644f5",
      "3d61f32fbc26422a9e9a866b19510bf5",
      "439d820ae545451692670b1815f7be4d",
      "4fdabaad8f1f43d8bcc824e38ae0f6b7",
      "c38526657d264740b467b0051f37cdbf",
      "52527c76efaa477e8886869fef28ef15",
      "6616249bda7b449d84d3f420afb95260",
      "9e492c201cc44d789cf1773de666d53c",
      "59e07bafb0294fb68271ab6f3b9697be",
      "83b05e78e78240328b3cb77b3b177d4e",
      "a631a067c6a642a6829161f66aa416c7",
      "1e29aee255c84d5ebe71308370a79b7f",
      "8c1529e30bca468799e2ac45d706157c",
      "38bd1ad3b10f4d50b63a572e77bef082",
      "1b38414157ed4e539e95d355a8c3b58e",
      "618bdd9579ed416a8eccf73119a5a9fb",
      "02ef1d4c41314b0bb49205ccf8297071",
      "c42be3645f384ef8b4940ae5ba04f839",
      "0a4da718733e4ec7be1aa5792d00f321",
      "6a9d08df53f14b8fbf8428a67b294eac",
      "b828bcc21a2948c89a3d263a67535fb1",
      "b6332ee9b974428b82ad24941cca7125",
      "421dcb27ed20420989b13b8bed28eaca",
      "d69993e561f24dcf86d7d1eba3661731",
      "3b636a6046874629b866b96a22626b14",
      "d7d5eb782bec4defa72af73272a8a24a",
      "587c835b7c6d44e0841bf77eeae87022",
      "cbcb00f6b23c42dba8b966f046271036",
      "a482379b3b854ab6960e208f4d7f247a",
      "0ea8552ca5b24773b065aa73caffac65",
      "078a83fcbc3d47ae8b0de094adf1f1fb",
      "1ca777d249b1457b8f3b400c7bcef910",
      "e2fc23f258b747aa97b8d02b1b122356",
      "fc31408839414e32bdc6727dcf56e632",
      "24044e47efc04bb8aed1f31b78c959b6",
      "ffec068889124e2396f8ce74230ff4aa",
      "e3485916152649ea97c6680c309de0b0",
      "4a5be6377b104846b2ad5b2fc14dd85f",
      "39d1a6d4feb6411fbd1e3c77ee6f6c73",
      "63c8dff16b6b4ce083c4cb6b267e014d",
      "e28e23aaf33d4966b5f52764d5eeb31c",
      "16be1c86bdc548e5881dbed9a57c2e2a",
      "8c417ef5fcf44d24ba23ced46e6649ce",
      "cdfc8786bee74692ba745d21df008696",
      "7b24674f04ab4004bcb239078bb91c2f",
      "d4b35f969a8f42f9bf75634a58088ea6",
      "54a22c977b8b419b9dfe8140f2a19412",
      "69ec72a751ac474fb2518a63597bee9d",
      "53fae9fce52e4ad394048aa7ff683a5c",
      "0212546eb11e4c4999ca5d7943507b48",
      "f000d2f3f4aa40fa9db28b46bbb57701",
      "1e4c72134743411199b38712df1c8e52",
      "d3a119dc885e4d17b3ab42effc02a4e7",
      "9c5af7a7fa8e4e5e9531cae0aa03de62",
      "8dc0486584d94becb9c2a890b22362ad",
      "bce62a4f6379455bb2f5dca80fea5e20"
     ]
    },
    "id": "2gF0bDUkxSZu",
    "outputId": "9d8a06b5-fbd3-4c6b-beb2-da15ab3a35a9"
   },
   "outputs": [],
   "source": [
    "import json\n",
    "from datasets import Dataset\n",
    "from unsloth import to_sharegpt\n",
    "\n",
    "# Load and process JSONL file\n",
    "data = []\n",
    "with open('Data2.jsonl', 'r', encoding='utf-8') as f:\n",
    "    for line in f:\n",
    "        item = json.loads(line.strip())\n",
    "        # Standardize key to 'input'\n",
    "        if 'instruction' in item:\n",
    "            item['input'] = item.pop('instruction')\n",
    "        data.append(item)\n",
    "\n",
    "# Create HuggingFace dataset\n",
    "dataset = Dataset.from_list(data)\n",
    "\n",
    "# Convert to ShareGPT format for unsloth\n",
    "dataset = to_sharegpt(\n",
    "    dataset,\n",
    "    merged_prompt = \"{input}\",\n",
    "    output_column_name = \"output\",\n",
    "    conversation_extension = 3,\n",
    ")"
   ]
  },
  {
   "cell_type": "code",
   "execution_count": null,
   "metadata": {
    "colab": {
     "base_uri": "https://localhost:8080/",
     "height": 49,
     "referenced_widgets": [
      "252716a222cf4ccfa22420fe86a5e096",
      "e1053ccc482d4b81b1173fd5eb905ab7",
      "b62e0778a47546149909a71bd902cb4d",
      "a3ba2267d3bc4e0c9c2cc6e106616765",
      "57579ef9e12b4bdb88a68a64f18ed408",
      "49812fd3df5d4043b64d6c36e364806f",
      "ea83d62439ee42b7a104f1496f699413",
      "5bd2218870364e08bf1d5b49ba2f32d8",
      "f4d1642fc56e4a0ba966fea9d1f7fd7f",
      "121a51b2ea0e49ffa3d081407740617a",
      "b178ce5a75974604a7e721b70dee5239"
     ]
    },
    "id": "4zNi_YNAxTKj",
    "outputId": "1d83799a-40f7-444c-fc30-4681b8cfc1d4"
   },
   "outputs": [],
   "source": [
    "from unsloth import standardize_sharegpt\n",
    "dataset = standardize_sharegpt(dataset)"
   ]
  },
  {
   "cell_type": "code",
   "execution_count": null,
   "metadata": {
    "colab": {
     "base_uri": "https://localhost:8080/",
     "height": 313,
     "referenced_widgets": [
      "0ed46b0825aa4e9b9a6a034273a275ce",
      "6bf27816ed4c4430a1db92843572564f",
      "2783254fe20944df934d774a98989bf9",
      "adb7760ed42b4acc8092f945a105e7c1",
      "362cf979176c4bba96bfe95f9571a414",
      "4adf363786864800a840ef0d9a9cfe88",
      "3eefa4b38b4740a1a0d2958a4f4a2a8b",
      "ca41d2d772f94172a3be096feb67c35a",
      "7535adf731c048e7abe63efdb8c0076e",
      "084a4eada5b348c1aa7d49aafa4742ec",
      "cb3a914e1dea4bdabb887109ab6738b9",
      "0e4f9afa117c4c868b12f1c7e0234697",
      "819e51771baa405cb72f9d75a15d1f2b",
      "14960a9690a2469c8e0d47d01f639d8d",
      "42156698bc8d48d6a0eec432e04e7952",
      "7d8d5dec569149569833d073c158dd7d",
      "f420b97237b6412da810dc81168fa738",
      "0e6d9a3ea336476a97c784ef82ea18d0",
      "2f72af013439470f919bdfbd69599ca1",
      "f016b91a8c8649d497f56cb475b0d8bb",
      "3b1ee115789340c49ed0ea342eab157d",
      "902478f34362436daad1b94faff582b6",
      "9273070abc554c90a9579503aa9c02b1",
      "978eb1c96c9b499681870b2c2c19224a",
      "6dc8245febbb49098f3eddb2383400e5",
      "9a37e634d447449db69bcdb8ebf30320",
      "cdf5f149f8ee44adb68bc0ae29f9d14d",
      "6e16587517f24fcdad690da5fe6174dc",
      "74e73ddddb2046daab30b673082cdd5b",
      "fba164d5f7964e77b159b8ae6e793b0d",
      "5919d0af3fbd4613a81811afedb89541",
      "ae4855351b914bc4a943133238a2374f",
      "282bb037da3049b88badfc05c6da1511",
      "ae20b6fa5ebb4e1caf213bdb98d2bd33",
      "826a52579d7b484a9a1182a7a8fab687",
      "6679a32b5858486e82bfc6792f90e799",
      "54ba61b718a4469ea8328092be528c3d",
      "e7696801641a4620a448407fd6cca7c5",
      "df3b981b94cd44788b011b80db6601c5",
      "323877fe2f2e4f5c8d60d8ca6e03440d",
      "bbe517252eb24b58b9918b588b8c196c",
      "dd98586bc9ee4fa792a83599b03d156f",
      "0321647d558f4c56aaa24de0287c4a83",
      "6c17869fd0e2412fa2886f0f45cbc0d2",
      "cf57ff748ede410bb1109566c55e44f8",
      "09bfc64ac848482890135046b082abe3",
      "b4f9b12bf7274ac9a756f608d69f78a2",
      "e5cffae65fd34d52b3c314089dc0fd5f",
      "03650954218348ee94c4e1aa9272a651",
      "9d515cd31c254f3197d44b6060c97bec",
      "3db561cb70e04761b0ad6e73f7c734c3",
      "9fd7e12d885e4edca875bf7553d4f4d8",
      "8b33dfcd66fe460abecba7c35cb2f8aa",
      "7d0c35acf51f45ceab2aad618b689943",
      "30625b35f152403b9c3addc198a35dd2",
      "dcef63ebe9a746f9add5c9700aed4e8b",
      "8fc82e820d264aa08e0e0c86c2d1abb0",
      "48ca47cee55445569020c4338539a233",
      "33e30d890df14cfa8e0275d5280506c0",
      "976d690765c542adbf3a8e3d347743bc",
      "0905373d845b4a7692550acc032a0e09",
      "0d6e29cf047a401f8241c72ab7b22766",
      "95208fbbe8c6465bbf6c4d0f39329893",
      "83552a4cfa934d009e5c6f87b55078de",
      "c6666acac0654c30b764d7b0de5fecec",
      "43132cbda7b1482db3236a616c9fd810"
     ]
    },
    "id": "u2zswGsUxV8D",
    "outputId": "9b192171-0cc7-4737-a14e-80407bfd59d2"
   },
   "outputs": [],
   "source": [
    "from unsloth import FastLanguageModel\n",
    "import torch\n",
    "\n",
    "model, tokenizer = FastLanguageModel.from_pretrained(\n",
    "    model_name = \"unsloth/DeepSeek-R1-Distill-Llama-8B-unsloth-bnb-4bit\",\n",
    "    max_seq_length = 2048,\n",
    "    dtype = None,\n",
    "    load_in_4bit = True,\n",
    ")"
   ]
  },
  {
   "cell_type": "code",
   "execution_count": null,
   "metadata": {
    "colab": {
     "base_uri": "https://localhost:8080/"
    },
    "id": "HxpmnlePxX-D",
    "outputId": "e32ef13f-5035-4760-95c7-ef01ea3b424b"
   },
   "outputs": [],
   "source": [
    "model = FastLanguageModel.get_peft_model(\n",
    "    model,\n",
    "    r = 4,\n",
    "    target_modules = [\"q_proj\", \"k_proj\", \"v_proj\", \"o_proj\"],\n",
    "    lora_alpha = 16,\n",
    "    lora_dropout = 0.2,\n",
    "    bias = \"none\",\n",
    "    use_gradient_checkpointing = \"unsloth\",\n",
    "    random_state = 42,\n",
    "    use_rslora = False,\n",
    "    loftq_config = None,\n",
    ")"
   ]
  },
  {
   "cell_type": "code",
   "execution_count": null,
   "metadata": {
    "colab": {
     "base_uri": "https://localhost:8080/",
     "height": 66,
     "referenced_widgets": [
      "39424f3defc240ecb6f8659412c10a47",
      "62d5057bb4614e39877953d42371058b",
      "e5301e0d56fd416fabc6529f9c6b93e1",
      "bc9a5ec6ea9547adaf7b2be04c5225b3",
      "159290762ebd408d91ff16914be65b08",
      "d90d0ed2c78b4a20b6006615e177ef2c",
      "1896e072943e4450987d2012afb4120f",
      "dee26b2bb45c4ebdbde10e0b1d783db7",
      "849f1249a8914d4b8287e507a70baf1c",
      "34fded1c06964a17ab8d2a6403650780",
      "53f1e7d4c15f4031ab6a03a3b8489e25"
     ]
    },
    "id": "OUyXk0ONxZ2L",
    "outputId": "2c0c9b16-b3bf-48d4-9b1f-74e3c1aadd08"
   },
   "outputs": [],
   "source": [
    "chat_template = \"\"\"Given the instruction think step by step and provide a response. if the instruction is ambigous or needs more clarification ask for more information using the <ask> and </ask> tokens.\n",
    "By generating <ask>......</ask>\n",
    "\n",
    "### Instruction:\n",
    "{INPUT}\n",
    "\n",
    "### Response:\n",
    "{OUTPUT}\"\"\"\n",
    "\n",
    "from unsloth import apply_chat_template\n",
    "dataset = apply_chat_template(\n",
    "    dataset,\n",
    "    tokenizer = tokenizer,\n",
    "    chat_template = chat_template,\n",
    "    # default_system_message = \"You are a helpful assistant\", << [OPTIONAL]\n",
    ")"
   ]
  },
  {
   "cell_type": "code",
   "execution_count": null,
   "metadata": {
    "colab": {
     "base_uri": "https://localhost:8080/",
     "height": 49,
     "referenced_widgets": [
      "27abbb4b9e824a7fb102523eeee051e8",
      "e203f0fea6e142b68313eac818cc65b3",
      "39000d113fa14c6aaeaa951cec01f9f3",
      "36ad34e85f7a48098565315e69ad771a",
      "df7dd627e18a4a759e1845a10490500d",
      "60e38dc260984d6889fad596251672e1",
      "9284f9906b9747fb868a1f336ddd6a62",
      "e82d31b441254522b0a76d44efae380e",
      "c584c412fb3d4ef2881dc75cd2040dd0",
      "1127404ceba14e9a81c63e29f48780a1",
      "7ba6c9693a774b5cbebf342fd06edc0c"
     ]
    },
    "id": "rWgx4ZHNxcJv",
    "outputId": "0e529098-885b-4571-e1ba-122d04f302e5"
   },
   "outputs": [],
   "source": [
    "from trl import SFTTrainer\n",
    "from transformers import TrainingArguments\n",
    "from unsloth import is_bfloat16_supported\n",
    "\n",
    "trainer = SFTTrainer(\n",
    "    model = model,\n",
    "    tokenizer = tokenizer,\n",
    "    train_dataset = dataset,\n",
    "    dataset_text_field = \"text\",\n",
    "    max_seq_length = 2048,\n",
    "    dataset_num_proc = 2,\n",
    "    packing = False,\n",
    "    args = TrainingArguments(\n",
    "        num_train_epochs = 4,\n",
    "        per_device_train_batch_size = 2,\n",
    "        gradient_accumulation_steps = 4,\n",
    "        warmup_steps = 5,\n",
    "        # max_steps = 20,  # REMOVE or set to -1\n",
    "        learning_rate = 2e-4,\n",
    "        fp16 = not is_bfloat16_supported(),\n",
    "        bf16 = is_bfloat16_supported(),\n",
    "        logging_steps = 10,\n",
    "        optim = \"adamw_8bit\",\n",
    "        weight_decay = 0.01,\n",
    "        lr_scheduler_type = \"linear\",\n",
    "        seed = 3407,\n",
    "        output_dir = \"outputs\",\n",
    "        report_to = \"none\",  # Use this for WandB etc\n",
    "    ),\n",
    ")"
   ]
  },
  {
   "cell_type": "code",
   "execution_count": null,
   "metadata": {
    "colab": {
     "base_uri": "https://localhost:8080/",
     "height": 1000
    },
    "id": "bqMKqrYyxeY_",
    "outputId": "e471ae36-f630-4c2f-8966-5d883005bc00"
   },
   "outputs": [],
   "source": [
    "trainer_stats = trainer.train()"
   ]
  },
  {
   "cell_type": "code",
   "execution_count": null,
   "metadata": {
    "colab": {
     "base_uri": "https://localhost:8080/"
    },
    "id": "SHBuH3FuxodQ",
    "outputId": "25a68a1c-ab77-4efe-ba71-3a8010866e72"
   },
   "outputs": [],
   "source": [
    "model.save_pretrained_gguf(\"model\", tokenizer)"
   ]
  },
  {
   "cell_type": "code",
   "execution_count": null,
   "metadata": {
    "colab": {
     "base_uri": "https://localhost:8080/"
    },
    "id": "UyfCXuLIxpSe",
    "outputId": "622ee114-3e9a-4ec2-9bd5-5559462f6adc"
   },
   "outputs": [],
   "source": [
    "!curl -fsSL https://ollama.com/install.sh | sh"
   ]
  },
  {
   "cell_type": "code",
   "execution_count": null,
   "metadata": {
    "colab": {
     "base_uri": "https://localhost:8080/"
    },
    "id": "YXed2dVR0k-T",
    "outputId": "2cceec3e-855d-424a-d80d-d4c90f9b715b"
   },
   "outputs": [],
   "source": [
    "import subprocess\n",
    "subprocess.Popen([\"ollama\", \"serve\"])\n",
    "import time\n",
    "time.sleep(3)\n",
    "print(tokenizer._ollama_modelfile)"
   ]
  },
  {
   "cell_type": "code",
   "execution_count": null,
   "metadata": {
    "colab": {
     "base_uri": "https://localhost:8080/"
    },
    "id": "NWoPKDO70qRA",
    "outputId": "aeed8eb0-f0f4-4200-abae-97dca0998616"
   },
   "outputs": [],
   "source": [
    "!ollama create deepseek_finetuned_model -f ./model/Modelfile"
   ]
  },
  {
   "cell_type": "code",
   "execution_count": null,
   "metadata": {
    "colab": {
     "base_uri": "https://localhost:8080/"
    },
    "id": "pxB-ZiCP0sXL",
    "outputId": "e970bece-6ca8-455c-8c6e-87f06c7e2459"
   },
   "outputs": [],
   "source": [
    "!pip install ollama"
   ]
  },
  {
   "cell_type": "code",
   "execution_count": null,
   "metadata": {
    "colab": {
     "base_uri": "https://localhost:8080/"
    },
    "id": "ZtMu84bb0v9R",
    "outputId": "120bb691-d923-496d-813b-766729dd5087"
   },
   "outputs": [],
   "source": [
    "import ollama\n",
    "\n",
    "response = ollama.chat(model=\"deepseek_finetuned_model\",\n",
    "            messages=[{ \"role\": \"user\", \"content\": \"I want to buy a new smartphone\"\n",
    "            },\n",
    "                      ])\n",
    "\n",
    "print(response.message.content)"
   ]
  },
  {
   "cell_type": "code",
   "execution_count": null,
   "metadata": {
    "colab": {
     "base_uri": "https://localhost:8080/",
     "height": 155
    },
    "id": "bvp_tc6o0xkO",
    "outputId": "58e77b12-0606-4261-a59e-f56f67f79345"
   },
   "outputs": [],
   "source": [
    "from IPython.display import Markdown\n",
    "import ollama\n",
    "\n",
    "response = ollama.chat(model=\"deepseek_finetuned_model\",\n",
    "                       messages=[{\"role\": \"user\",\n",
    "                                  \"content\": \"How to add chart to a document?\"},\n",
    "\n",
    "                      ])\n",
    "\n",
    "Markdown(response.message.content)"
   ]
  },
  {
   "cell_type": "code",
   "execution_count": null,
   "metadata": {
    "colab": {
     "base_uri": "https://localhost:8080/"
    },
    "id": "Rx9me-Ya01ZD",
    "outputId": "b37095ca-6cc5-42e8-b627-b53ad6c91280"
   },
   "outputs": [],
   "source": [
    "from google.colab import drive\n",
    "import os\n",
    "\n",
    "# Mount Google Drive\n",
    "drive.mount('/content/drive')\n",
    "\n",
    "# Define the path to the model directory\n",
    "model_dir = './model'\n",
    "\n",
    "# Define the destination path in Google Drive\n",
    "# You can change 'my_models' to your desired folder name in Google Drive\n",
    "drive_path = '/content/drive/MyDrive/my_models'\n",
    "\n",
    "# Create the destination directory in Google Drive if it doesn't exist\n",
    "os.makedirs(drive_path, exist_ok=True)\n",
    "\n",
    "# Copy the model directory to Google Drive\n",
    "!cp -r {model_dir} {drive_path}\n",
    "\n",
    "print(f\"Model directory '{model_dir}' saved to '{drive_path}' in Google Drive.\")"
   ]
  },
  {
   "cell_type": "code",
   "execution_count": null,
   "metadata": {
    "id": "Jnk4JJRTKw07"
   },
   "outputs": [],
   "source": []
  }
 ],
 "metadata": {
  "accelerator": "GPU",
  "colab": {
   "gpuType": "T4",
   "provenance": []
  },
  "kernelspec": {
   "display_name": "Python 3",
   "name": "python3"
  },
  "language_info": {
   "name": "python"
  }
 },
 "nbformat": 4,
 "nbformat_minor": 0
}
